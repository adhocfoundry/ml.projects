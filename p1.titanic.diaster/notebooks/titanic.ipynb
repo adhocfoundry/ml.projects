{
 "cells": [
  {
   "cell_type": "markdown",
   "metadata": {
    "_cell_guid": "ea25cdf7-bdbc-3cf1-0737-bc51675e3374",
    "_uuid": "fed5696c67bf55a553d6d04313a77e8c617cad99"
   },
   "source": [
    "## Project 3: Titanic Diaster\n",
    "#### Who are the survivers? Why they survived?\n",
    "\n",
    "\n",
    "### Overview\n",
    "The objective of this notebook is to learn the feature engineering used by various Machine Learners. Feature engineering attempts to increase the predictive power of the learning algorithms.\n",
    "\n",
    "This project aims predict Titanic diaster survivors and try to find the reason behind why they survived using various Machine Learning supervised algorithms.\n",
    "\n",
    "\n",
    "### Domain\n",
    "Any diaster, weather it could be a natural calamity, attacks, accidents, war etc, will always have victims and survivers. Every incidents will have their own investigations and analysis. Data science tools help us to bring many perspective to these analysis and understands better about the incidents. These analysis will always help us to build better world!\n",
    "\n",
    "For detailed description of the Titanic diaster, please go through the [Kaggle competition](https://www.kaggle.com/c/titanic) description page.\n",
    "\n",
    "\n",
    "## Workflow architecture\n",
    "\n",
    "\n",
    "\n",
    "\n",
    "\n",
    "\n",
    "\n",
    "### Data preparation workflow:\n",
    "Reference: [startupsci]( https://www.kaggle.com/startupsci/titanic-data-science-solutions)\n",
    "\n",
    "After the acquisition of the raw data, data needs to be prepared and vizualised before applying any Machine Learning workflow. This is feature engineering. Following are the steps usually followed under data nnnnnnnnnn . Some of the workflow steps can be combined or skipped based on the feasability and the richness of the data.\n",
    "\n",
    "**Correlate:** Correlation helps us to identify the contributing features on the target solution we want to predict. This is done by finding Correlation matrix and [Pearson Coefficient](http://www.maheshagodekere.com/notes/correlation).\n",
    "\n",
    "**Classify:** Classify the features based on different criteria will be helpful to further process the classfifed/catagorised features during advanced data preparation steps.\n",
    "\n",
    "**Completness:** Check for the completeness of the data like null values.\n",
    " \n",
    "**Correctness:** Check for wrong datatypes, inaccurate values, outliners, too many zero values etc\n",
    "\n",
    "**Convert:** Convert the datatype as per the machine learning algorithm needs.\n",
    "\n",
    "**Create:** Features can be combined to create new features to boost prediction\n",
    "\n",
    "**Vizualise:** Provides different perspectives on the understanding of the features.\n"
   ]
  },
  {
   "cell_type": "code",
   "execution_count": 4,
   "metadata": {
    "_cell_guid": "5767a33c-8f18-4034-e52d-bf7a8f7d8ab8",
    "_uuid": "847a9b3972a6be2d2f3346ff01fea976d92ecdb6"
   },
   "outputs": [],
   "source": [
    "import matplotlib.pyplot as plt\n",
    "import pandas as pd    #Dataframe library to manipulate data\n",
    "import numpy as np   \n",
    "import seaborn as sns\n",
    "import re  #We'll be using regular expressions to extract the titles from people's names. Like Mr, Mrs, Count etc\n",
    "from sklearn.model_selection import KFold   #for k-fold cross-validation\n",
    "from sklearn import model_selection as cv      #cross-validation\n",
    "from sklearn.linear_model import LogisticRegression  \n",
    "from sklearn.ensemble import RandomForestClassifier\n",
    "from sklearn import svm\n",
    "from sklearn.ensemble import GradientBoostingClassifier\n",
    "\n",
    "\n",
    "from sklearn.model_selection import GridSearchCV"
   ]
  },
  {
   "cell_type": "markdown",
   "metadata": {
    "_cell_guid": "6b5dc743-15b1-aac6-405e-081def6ecca1",
    "_uuid": "2d307b99ee3d19da3c1cddf509ed179c21dec94a"
   },
   "source": [
    "## Reading data\n",
    "\n",
    "Read Titanic training and test dataset into two dataframes. Training dataset comes with target values and test data without the target."
   ]
  },
  {
   "cell_type": "code",
   "execution_count": 5,
   "metadata": {
    "_cell_guid": "e7319668-86fe-8adc-438d-0eef3fd0a982",
    "_uuid": "13f38775c12ad6f914254a08f0d1ef948a2bd453"
   },
   "outputs": [
    {
     "name": "stdout",
     "output_type": "stream",
     "text": [
      "(891, 12)\n",
      "(418, 11)\n"
     ]
    }
   ],
   "source": [
    "train_o = pd.read_csv(\"../data/train.csv\")\n",
    "test_o = pd.read_csv(\"../data/test.csv\")\n",
    "print(train_o.shape)\n",
    "print(test_o.shape)\n"
   ]
  },
  {
   "cell_type": "markdown",
   "metadata": {},
   "source": [
    "We need to apply all the feature engineering workflow steps on both train and test data. Combining both into a dataframe will help in achieving the same. We can split them back to training and test data before training."
   ]
  },
  {
   "cell_type": "code",
   "execution_count": 6,
   "metadata": {},
   "outputs": [
    {
     "name": "stdout",
     "output_type": "stream",
     "text": [
      "(1309, 12)\n"
     ]
    },
    {
     "name": "stderr",
     "output_type": "stream",
     "text": [
      "/Users/mahesha/anaconda3/lib/python3.6/site-packages/ipykernel_launcher.py:6: FutureWarning: Sorting because non-concatenation axis is not aligned. A future version\n",
      "of pandas will change to not sort by default.\n",
      "\n",
      "To accept the future behavior, pass 'sort=False'.\n",
      "\n",
      "To retain the current behavior and silence the warning, pass 'sort=True'.\n",
      "\n",
      "  \n"
     ]
    },
    {
     "data": {
      "text/html": [
       "<div>\n",
       "<style scoped>\n",
       "    .dataframe tbody tr th:only-of-type {\n",
       "        vertical-align: middle;\n",
       "    }\n",
       "\n",
       "    .dataframe tbody tr th {\n",
       "        vertical-align: top;\n",
       "    }\n",
       "\n",
       "    .dataframe thead th {\n",
       "        text-align: right;\n",
       "    }\n",
       "</style>\n",
       "<table border=\"1\" class=\"dataframe\">\n",
       "  <thead>\n",
       "    <tr style=\"text-align: right;\">\n",
       "      <th></th>\n",
       "      <th>Age</th>\n",
       "      <th>Cabin</th>\n",
       "      <th>Embarked</th>\n",
       "      <th>Fare</th>\n",
       "      <th>Name</th>\n",
       "      <th>Parch</th>\n",
       "      <th>PassengerId</th>\n",
       "      <th>Pclass</th>\n",
       "      <th>Sex</th>\n",
       "      <th>SibSp</th>\n",
       "      <th>Survived</th>\n",
       "      <th>Ticket</th>\n",
       "    </tr>\n",
       "  </thead>\n",
       "  <tbody>\n",
       "    <tr>\n",
       "      <td>0</td>\n",
       "      <td>22.0</td>\n",
       "      <td>NaN</td>\n",
       "      <td>S</td>\n",
       "      <td>7.2500</td>\n",
       "      <td>Braund, Mr. Owen Harris</td>\n",
       "      <td>0</td>\n",
       "      <td>1</td>\n",
       "      <td>3</td>\n",
       "      <td>male</td>\n",
       "      <td>1</td>\n",
       "      <td>0.0</td>\n",
       "      <td>A/5 21171</td>\n",
       "    </tr>\n",
       "    <tr>\n",
       "      <td>1</td>\n",
       "      <td>38.0</td>\n",
       "      <td>C85</td>\n",
       "      <td>C</td>\n",
       "      <td>71.2833</td>\n",
       "      <td>Cumings, Mrs. John Bradley (Florence Briggs Th...</td>\n",
       "      <td>0</td>\n",
       "      <td>2</td>\n",
       "      <td>1</td>\n",
       "      <td>female</td>\n",
       "      <td>1</td>\n",
       "      <td>1.0</td>\n",
       "      <td>PC 17599</td>\n",
       "    </tr>\n",
       "    <tr>\n",
       "      <td>2</td>\n",
       "      <td>26.0</td>\n",
       "      <td>NaN</td>\n",
       "      <td>S</td>\n",
       "      <td>7.9250</td>\n",
       "      <td>Heikkinen, Miss. Laina</td>\n",
       "      <td>0</td>\n",
       "      <td>3</td>\n",
       "      <td>3</td>\n",
       "      <td>female</td>\n",
       "      <td>0</td>\n",
       "      <td>1.0</td>\n",
       "      <td>STON/O2. 3101282</td>\n",
       "    </tr>\n",
       "    <tr>\n",
       "      <td>3</td>\n",
       "      <td>35.0</td>\n",
       "      <td>C123</td>\n",
       "      <td>S</td>\n",
       "      <td>53.1000</td>\n",
       "      <td>Futrelle, Mrs. Jacques Heath (Lily May Peel)</td>\n",
       "      <td>0</td>\n",
       "      <td>4</td>\n",
       "      <td>1</td>\n",
       "      <td>female</td>\n",
       "      <td>1</td>\n",
       "      <td>1.0</td>\n",
       "      <td>113803</td>\n",
       "    </tr>\n",
       "    <tr>\n",
       "      <td>4</td>\n",
       "      <td>35.0</td>\n",
       "      <td>NaN</td>\n",
       "      <td>S</td>\n",
       "      <td>8.0500</td>\n",
       "      <td>Allen, Mr. William Henry</td>\n",
       "      <td>0</td>\n",
       "      <td>5</td>\n",
       "      <td>3</td>\n",
       "      <td>male</td>\n",
       "      <td>0</td>\n",
       "      <td>0.0</td>\n",
       "      <td>373450</td>\n",
       "    </tr>\n",
       "  </tbody>\n",
       "</table>\n",
       "</div>"
      ],
      "text/plain": [
       "    Age Cabin Embarked     Fare  \\\n",
       "0  22.0   NaN        S   7.2500   \n",
       "1  38.0   C85        C  71.2833   \n",
       "2  26.0   NaN        S   7.9250   \n",
       "3  35.0  C123        S  53.1000   \n",
       "4  35.0   NaN        S   8.0500   \n",
       "\n",
       "                                                Name  Parch  PassengerId  \\\n",
       "0                            Braund, Mr. Owen Harris      0            1   \n",
       "1  Cumings, Mrs. John Bradley (Florence Briggs Th...      0            2   \n",
       "2                             Heikkinen, Miss. Laina      0            3   \n",
       "3       Futrelle, Mrs. Jacques Heath (Lily May Peel)      0            4   \n",
       "4                           Allen, Mr. William Henry      0            5   \n",
       "\n",
       "   Pclass     Sex  SibSp  Survived            Ticket  \n",
       "0       3    male      1       0.0         A/5 21171  \n",
       "1       1  female      1       1.0          PC 17599  \n",
       "2       3  female      0       1.0  STON/O2. 3101282  \n",
       "3       1  female      1       1.0            113803  \n",
       "4       3    male      0       0.0            373450  "
      ]
     },
     "execution_count": 6,
     "metadata": {},
     "output_type": "execute_result"
    }
   ],
   "source": [
    "#Mark the end of training data as we need to split them back later\n",
    "marker = train_o.shape[0] \n",
    "# create a list\n",
    "train_test = [train_o, test_o]\n",
    "#Concat will append test data to training data with target colum as NaN\n",
    "tdat = pd.concat(train_test)\n",
    "# Make sure 1309 rows with 12 columns\n",
    "print(tdat.shape)\n",
    "tdat.head()\n",
    "\n"
   ]
  },
  {
   "cell_type": "code",
   "execution_count": null,
   "metadata": {},
   "outputs": [],
   "source": []
  },
  {
   "cell_type": "markdown",
   "metadata": {},
   "source": [
    "## Initial peek through\n",
    "\n",
    "Peek through the dataset to understand the superficial characterstics of the data"
   ]
  },
  {
   "cell_type": "code",
   "execution_count": 7,
   "metadata": {},
   "outputs": [
    {
     "data": {
      "text/html": [
       "<div>\n",
       "<style scoped>\n",
       "    .dataframe tbody tr th:only-of-type {\n",
       "        vertical-align: middle;\n",
       "    }\n",
       "\n",
       "    .dataframe tbody tr th {\n",
       "        vertical-align: top;\n",
       "    }\n",
       "\n",
       "    .dataframe thead th {\n",
       "        text-align: right;\n",
       "    }\n",
       "</style>\n",
       "<table border=\"1\" class=\"dataframe\">\n",
       "  <thead>\n",
       "    <tr style=\"text-align: right;\">\n",
       "      <th></th>\n",
       "      <th>Age</th>\n",
       "      <th>Cabin</th>\n",
       "      <th>Embarked</th>\n",
       "      <th>Fare</th>\n",
       "      <th>Name</th>\n",
       "      <th>Parch</th>\n",
       "      <th>PassengerId</th>\n",
       "      <th>Pclass</th>\n",
       "      <th>Sex</th>\n",
       "      <th>SibSp</th>\n",
       "      <th>Survived</th>\n",
       "      <th>Ticket</th>\n",
       "    </tr>\n",
       "  </thead>\n",
       "  <tbody>\n",
       "    <tr>\n",
       "      <td>count</td>\n",
       "      <td>1046.000000</td>\n",
       "      <td>295</td>\n",
       "      <td>1307</td>\n",
       "      <td>1308.000000</td>\n",
       "      <td>1309</td>\n",
       "      <td>1309.000000</td>\n",
       "      <td>1309.000000</td>\n",
       "      <td>1309.000000</td>\n",
       "      <td>1309</td>\n",
       "      <td>1309.000000</td>\n",
       "      <td>891.000000</td>\n",
       "      <td>1309</td>\n",
       "    </tr>\n",
       "    <tr>\n",
       "      <td>unique</td>\n",
       "      <td>NaN</td>\n",
       "      <td>186</td>\n",
       "      <td>3</td>\n",
       "      <td>NaN</td>\n",
       "      <td>1307</td>\n",
       "      <td>NaN</td>\n",
       "      <td>NaN</td>\n",
       "      <td>NaN</td>\n",
       "      <td>2</td>\n",
       "      <td>NaN</td>\n",
       "      <td>NaN</td>\n",
       "      <td>929</td>\n",
       "    </tr>\n",
       "    <tr>\n",
       "      <td>top</td>\n",
       "      <td>NaN</td>\n",
       "      <td>C23 C25 C27</td>\n",
       "      <td>S</td>\n",
       "      <td>NaN</td>\n",
       "      <td>Connolly, Miss. Kate</td>\n",
       "      <td>NaN</td>\n",
       "      <td>NaN</td>\n",
       "      <td>NaN</td>\n",
       "      <td>male</td>\n",
       "      <td>NaN</td>\n",
       "      <td>NaN</td>\n",
       "      <td>CA. 2343</td>\n",
       "    </tr>\n",
       "    <tr>\n",
       "      <td>freq</td>\n",
       "      <td>NaN</td>\n",
       "      <td>6</td>\n",
       "      <td>914</td>\n",
       "      <td>NaN</td>\n",
       "      <td>2</td>\n",
       "      <td>NaN</td>\n",
       "      <td>NaN</td>\n",
       "      <td>NaN</td>\n",
       "      <td>843</td>\n",
       "      <td>NaN</td>\n",
       "      <td>NaN</td>\n",
       "      <td>11</td>\n",
       "    </tr>\n",
       "    <tr>\n",
       "      <td>mean</td>\n",
       "      <td>29.881138</td>\n",
       "      <td>NaN</td>\n",
       "      <td>NaN</td>\n",
       "      <td>33.295479</td>\n",
       "      <td>NaN</td>\n",
       "      <td>0.385027</td>\n",
       "      <td>655.000000</td>\n",
       "      <td>2.294882</td>\n",
       "      <td>NaN</td>\n",
       "      <td>0.498854</td>\n",
       "      <td>0.383838</td>\n",
       "      <td>NaN</td>\n",
       "    </tr>\n",
       "    <tr>\n",
       "      <td>std</td>\n",
       "      <td>14.413493</td>\n",
       "      <td>NaN</td>\n",
       "      <td>NaN</td>\n",
       "      <td>51.758668</td>\n",
       "      <td>NaN</td>\n",
       "      <td>0.865560</td>\n",
       "      <td>378.020061</td>\n",
       "      <td>0.837836</td>\n",
       "      <td>NaN</td>\n",
       "      <td>1.041658</td>\n",
       "      <td>0.486592</td>\n",
       "      <td>NaN</td>\n",
       "    </tr>\n",
       "    <tr>\n",
       "      <td>min</td>\n",
       "      <td>0.170000</td>\n",
       "      <td>NaN</td>\n",
       "      <td>NaN</td>\n",
       "      <td>0.000000</td>\n",
       "      <td>NaN</td>\n",
       "      <td>0.000000</td>\n",
       "      <td>1.000000</td>\n",
       "      <td>1.000000</td>\n",
       "      <td>NaN</td>\n",
       "      <td>0.000000</td>\n",
       "      <td>0.000000</td>\n",
       "      <td>NaN</td>\n",
       "    </tr>\n",
       "    <tr>\n",
       "      <td>25%</td>\n",
       "      <td>21.000000</td>\n",
       "      <td>NaN</td>\n",
       "      <td>NaN</td>\n",
       "      <td>7.895800</td>\n",
       "      <td>NaN</td>\n",
       "      <td>0.000000</td>\n",
       "      <td>328.000000</td>\n",
       "      <td>2.000000</td>\n",
       "      <td>NaN</td>\n",
       "      <td>0.000000</td>\n",
       "      <td>0.000000</td>\n",
       "      <td>NaN</td>\n",
       "    </tr>\n",
       "    <tr>\n",
       "      <td>50%</td>\n",
       "      <td>28.000000</td>\n",
       "      <td>NaN</td>\n",
       "      <td>NaN</td>\n",
       "      <td>14.454200</td>\n",
       "      <td>NaN</td>\n",
       "      <td>0.000000</td>\n",
       "      <td>655.000000</td>\n",
       "      <td>3.000000</td>\n",
       "      <td>NaN</td>\n",
       "      <td>0.000000</td>\n",
       "      <td>0.000000</td>\n",
       "      <td>NaN</td>\n",
       "    </tr>\n",
       "    <tr>\n",
       "      <td>75%</td>\n",
       "      <td>39.000000</td>\n",
       "      <td>NaN</td>\n",
       "      <td>NaN</td>\n",
       "      <td>31.275000</td>\n",
       "      <td>NaN</td>\n",
       "      <td>0.000000</td>\n",
       "      <td>982.000000</td>\n",
       "      <td>3.000000</td>\n",
       "      <td>NaN</td>\n",
       "      <td>1.000000</td>\n",
       "      <td>1.000000</td>\n",
       "      <td>NaN</td>\n",
       "    </tr>\n",
       "    <tr>\n",
       "      <td>max</td>\n",
       "      <td>80.000000</td>\n",
       "      <td>NaN</td>\n",
       "      <td>NaN</td>\n",
       "      <td>512.329200</td>\n",
       "      <td>NaN</td>\n",
       "      <td>9.000000</td>\n",
       "      <td>1309.000000</td>\n",
       "      <td>3.000000</td>\n",
       "      <td>NaN</td>\n",
       "      <td>8.000000</td>\n",
       "      <td>1.000000</td>\n",
       "      <td>NaN</td>\n",
       "    </tr>\n",
       "  </tbody>\n",
       "</table>\n",
       "</div>"
      ],
      "text/plain": [
       "                Age        Cabin Embarked         Fare                  Name  \\\n",
       "count   1046.000000          295     1307  1308.000000                  1309   \n",
       "unique          NaN          186        3          NaN                  1307   \n",
       "top             NaN  C23 C25 C27        S          NaN  Connolly, Miss. Kate   \n",
       "freq            NaN            6      914          NaN                     2   \n",
       "mean      29.881138          NaN      NaN    33.295479                   NaN   \n",
       "std       14.413493          NaN      NaN    51.758668                   NaN   \n",
       "min        0.170000          NaN      NaN     0.000000                   NaN   \n",
       "25%       21.000000          NaN      NaN     7.895800                   NaN   \n",
       "50%       28.000000          NaN      NaN    14.454200                   NaN   \n",
       "75%       39.000000          NaN      NaN    31.275000                   NaN   \n",
       "max       80.000000          NaN      NaN   512.329200                   NaN   \n",
       "\n",
       "              Parch  PassengerId       Pclass   Sex        SibSp    Survived  \\\n",
       "count   1309.000000  1309.000000  1309.000000  1309  1309.000000  891.000000   \n",
       "unique          NaN          NaN          NaN     2          NaN         NaN   \n",
       "top             NaN          NaN          NaN  male          NaN         NaN   \n",
       "freq            NaN          NaN          NaN   843          NaN         NaN   \n",
       "mean       0.385027   655.000000     2.294882   NaN     0.498854    0.383838   \n",
       "std        0.865560   378.020061     0.837836   NaN     1.041658    0.486592   \n",
       "min        0.000000     1.000000     1.000000   NaN     0.000000    0.000000   \n",
       "25%        0.000000   328.000000     2.000000   NaN     0.000000    0.000000   \n",
       "50%        0.000000   655.000000     3.000000   NaN     0.000000    0.000000   \n",
       "75%        0.000000   982.000000     3.000000   NaN     1.000000    1.000000   \n",
       "max        9.000000  1309.000000     3.000000   NaN     8.000000    1.000000   \n",
       "\n",
       "          Ticket  \n",
       "count       1309  \n",
       "unique       929  \n",
       "top     CA. 2343  \n",
       "freq          11  \n",
       "mean         NaN  \n",
       "std          NaN  \n",
       "min          NaN  \n",
       "25%          NaN  \n",
       "50%          NaN  \n",
       "75%          NaN  \n",
       "max          NaN  "
      ]
     },
     "execution_count": 7,
     "metadata": {},
     "output_type": "execute_result"
    }
   ],
   "source": [
    "tdat.describe(include=\"all\")\n"
   ]
  },
  {
   "cell_type": "code",
   "execution_count": 8,
   "metadata": {},
   "outputs": [
    {
     "name": "stdout",
     "output_type": "stream",
     "text": [
      "<class 'pandas.core.frame.DataFrame'>\n",
      "Int64Index: 1309 entries, 0 to 417\n",
      "Data columns (total 12 columns):\n",
      "Age            1046 non-null float64\n",
      "Cabin          295 non-null object\n",
      "Embarked       1307 non-null object\n",
      "Fare           1308 non-null float64\n",
      "Name           1309 non-null object\n",
      "Parch          1309 non-null int64\n",
      "PassengerId    1309 non-null int64\n",
      "Pclass         1309 non-null int64\n",
      "Sex            1309 non-null object\n",
      "SibSp          1309 non-null int64\n",
      "Survived       891 non-null float64\n",
      "Ticket         1309 non-null object\n",
      "dtypes: float64(3), int64(4), object(5)\n",
      "memory usage: 132.9+ KB\n"
     ]
    }
   ],
   "source": [
    "tdat.info()"
   ]
  },
  {
   "cell_type": "markdown",
   "metadata": {},
   "source": [
    "\n",
    "**Categorical**\n",
    "Could be nominal, ordinal, ratio, or interval based.\n",
    "\n",
    "Nominal: Embarked, Sex, Survived, PassengerId\n",
    "Ordinal: Pclass\n",
    "\n",
    "**Numerical**\n",
    "Could be discrete, continuous, or timeseries based\n",
    "Continious: Age, Fare\n",
    "Discrete: SibSp, parch\n",
    "\n",
    "**Mixed**\n",
    "Alphanumeric: Cabin\n",
    "Mixed: Ticket, Name\n",
    "\n",
    "**Datatype**\n",
    "7 features are int/fload, 5 are string obj\n",
    "\n",
    "**Null**\n",
    "Cabin and Age has NULL values and incomplete\n",
    "Fare has one missing value\n",
    "\n",
    "**distribution**\n",
    "+ Most passengers (>75%) did not travel with parents (refere Parch distribution above)\n",
    "+ Few passengers paid high fares\n",
    "+ Nearly 30% travelled with spouse.\n",
    "+ Names are unique\n",
    "+ Data shows cabin values have duplicates / could be shared among passengers?\n",
    "+ Ticket values have duplicate values\n",
    "+ Around 64% are male and 36% are females\n",
    "+ Embarked takes 3 values and S port is used by most"
   ]
  },
  {
   "cell_type": "markdown",
   "metadata": {},
   "source": [
    "### Data Preparation/Feature engineering\n",
    "Process column by column applying data preparation steps.\n",
    "\n",
    "**Survived** \n",
    "is target attribute. We are going to predict this for the test dataset based on the model we create after training data learning."
   ]
  },
  {
   "cell_type": "markdown",
   "metadata": {},
   "source": [
    "**Cabin, Ticket & PassengerId**"
   ]
  },
  {
   "cell_type": "markdown",
   "metadata": {},
   "source": [
    "Cabin and Ticket has too many missing/duplicates  values. Isn't very important to survial, so we drop both. \n",
    "PassenderId does not influence the survival so drop it."
   ]
  },
  {
   "cell_type": "code",
   "execution_count": 9,
   "metadata": {},
   "outputs": [],
   "source": [
    "tdat.drop([\"Cabin\", \"Ticket\",\"PassengerId\"], axis = 1, inplace = True)"
   ]
  },
  {
   "cell_type": "markdown",
   "metadata": {},
   "source": [
    "**Name** \n",
    "\n",
    "Though Name does not inlfuence survival, extracting the title  from name is vital and can be used as a new feature."
   ]
  },
  {
   "cell_type": "code",
   "execution_count": 10,
   "metadata": {},
   "outputs": [],
   "source": [
    "def get_title(name):\n",
    "    \"\"\"\n",
    "    Use a regular expression to search for a title.  Titles always consist of\n",
    "    capital and lowercase letters, and end with a period.\n",
    "    \n",
    "    Takes a name as input and returns the title string as output\n",
    "    \"\"\"\n",
    "\n",
    "    title_search = re.search(' ([A-Za-z]+)\\.', name)\n",
    "    # If the title exists, extract and return it.\n",
    "    if title_search:\n",
    "        return title_search.group(1)\n",
    "    return \"\"\n",
    "\n",
    "tdat[\"Title\"] = tdat[\"Name\"].apply(get_title)  #We dropped \"Name\" earlier. So, we use original data.\n",
    "\n",
    "#Condense the title into smaller, and more meaningful categories.\n",
    "title_dict = {\n",
    "                        \"Capt\":       \"Officer\",\n",
    "                        \"Col\":        \"Officer\",\n",
    "                        \"Major\":      \"Officer\",\n",
    "                        \"Jonkheer\":   \"Royal\",\n",
    "                        \"Don\":        \"Royal\",\n",
    "                        \"Sir\" :       \"Royal\",\n",
    "                        \"Dr\":         \"Officer\",\n",
    "                        \"Rev\":        \"Officer\",\n",
    "                        \"Countess\":   \"Royal\",\n",
    "                        \"Dona\":       \"Royal\",\n",
    "                        \"Mme\":        \"Mrs\",\n",
    "                        \"Mlle\":       \"Miss\",\n",
    "                        \"Ms\":         \"Mrs\",\n",
    "                        \"Mr\" :        \"Mr\",\n",
    "                        \"Mrs\" :       \"Mrs\",\n",
    "                        \"Miss\" :      \"Miss\",\n",
    "                        \"Master\" :    \"Master\",\n",
    "                        \"Lady\" :      \"Royal\"\n",
    "\n",
    "                        }\n",
    "\n",
    "def titlemap(x):\n",
    "    return title_dict[x]\n",
    "\n",
    "\n",
    "tdat[\"Title\"] = tdat[\"Title\"].apply(titlemap)"
   ]
  },
  {
   "cell_type": "code",
   "execution_count": 11,
   "metadata": {},
   "outputs": [
    {
     "data": {
      "text/plain": [
       "0      Mr\n",
       "1     Mrs\n",
       "2    Miss\n",
       "3     Mrs\n",
       "4      Mr\n",
       "Name: Title, dtype: object"
      ]
     },
     "execution_count": 11,
     "metadata": {},
     "output_type": "execute_result"
    }
   ],
   "source": [
    "tdat[\"Title\"].head()"
   ]
  },
  {
   "cell_type": "code",
   "execution_count": 12,
   "metadata": {},
   "outputs": [
    {
     "data": {
      "text/plain": [
       "count     1309\n",
       "unique       6\n",
       "top         Mr\n",
       "freq       757\n",
       "Name: Title, dtype: object"
      ]
     },
     "execution_count": 12,
     "metadata": {},
     "output_type": "execute_result"
    }
   ],
   "source": [
    "tdat[\"Title\"].describe()"
   ]
  },
  {
   "cell_type": "markdown",
   "metadata": {},
   "source": [
    "Drop the Name as it does not influence the survival."
   ]
  },
  {
   "cell_type": "code",
   "execution_count": 13,
   "metadata": {},
   "outputs": [],
   "source": [
    "tdat = tdat.drop(['Name'], axis=1)"
   ]
  },
  {
   "cell_type": "markdown",
   "metadata": {},
   "source": [
    "**Age**\n",
    "\n",
    "As we know **Age** has missing values. There are number of ways that Age can be filled. We could apply univariate linear regression on the non null values to fill null values based on the prediction. OR we could use a simple banding. We shall use the later one."
   ]
  },
  {
   "cell_type": "code",
   "execution_count": 14,
   "metadata": {},
   "outputs": [],
   "source": [
    "def fill_ages(row):\n",
    "    if not(np.isnan(row['Age'])):\n",
    "        return row['Age']\n",
    "    \n",
    "    if row['Sex']=='female' and row['Pclass'] == 1:\n",
    "        if row['Title'] == 'Miss':\n",
    "            return 30\n",
    "        elif row['Title'] == 'Mrs':\n",
    "            return 45\n",
    "        elif row['Title'] == 'Officer':\n",
    "            return 49\n",
    "        elif row['Title'] == 'Royalty':\n",
    "            return 39\n",
    "\n",
    "    elif row['Sex']=='female' and row['Pclass'] == 2:\n",
    "        if row['Title'] == 'Miss':\n",
    "            return 20\n",
    "        elif row['Title'] == 'Mrs':\n",
    "            return 30\n",
    "\n",
    "    elif row['Sex']=='female' and row['Pclass'] == 3:\n",
    "        if row['Title'] == 'Miss':\n",
    "            return 18\n",
    "        elif row['Title'] == 'Mrs':                \n",
    "            return 31\n",
    "\n",
    "    elif row['Sex']=='male' and row['Pclass'] == 1:\n",
    "        if row['Title'] == 'Master':\n",
    "            return 6\n",
    "        elif row['Title'] == 'Mr':\n",
    "            return 41.5\n",
    "        elif row['Title'] == 'Officer':\n",
    "            return 52\n",
    "        elif row['Title'] == 'Royalty':\n",
    "            return 40\n",
    "\n",
    "    elif row['Sex']=='male' and row['Pclass'] == 2:\n",
    "        if row['Title'] == 'Master':\n",
    "            return 2\n",
    "        elif row['Title'] == 'Mr':\n",
    "            return 30\n",
    "        elif row['Title'] == 'Officer':\n",
    "                return 41.5\n",
    "\n",
    "    elif row['Sex']=='male' and row['Pclass'] == 3:\n",
    "        if row['Title'] == 'Master':\n",
    "            return 6\n",
    "        elif row['Title'] == 'Mr':\n",
    "            return 26\n",
    "        \n",
    "tdat[\"Age\"] = tdat.apply(fill_ages, axis = 1)\n"
   ]
  },
  {
   "cell_type": "code",
   "execution_count": 15,
   "metadata": {},
   "outputs": [
    {
     "data": {
      "text/plain": [
       "count    1309.000000\n",
       "mean       29.278205\n",
       "std        13.446690\n",
       "min         0.170000\n",
       "25%        21.000000\n",
       "50%        26.000000\n",
       "75%        36.500000\n",
       "max        80.000000\n",
       "Name: Age, dtype: float64"
      ]
     },
     "execution_count": 15,
     "metadata": {},
     "output_type": "execute_result"
    }
   ],
   "source": [
    "tdat[\"Age\"].describe()"
   ]
  },
  {
   "cell_type": "markdown",
   "metadata": {},
   "source": [
    "**Title**\n",
    "Map the title to numerical values."
   ]
  },
  {
   "cell_type": "code",
   "execution_count": 16,
   "metadata": {},
   "outputs": [],
   "source": [
    "title_mapping = {\"Mr\": 1, \"Miss\": 2, \"Mrs\": 3, \"Master\": 4, \"Rare\": 5}\n",
    "tdat['Title'] = tdat['Title'].map(title_mapping)\n",
    "tdat['Title'] = tdat['Title'].fillna(0)\n"
   ]
  },
  {
   "cell_type": "markdown",
   "metadata": {},
   "source": [
    "**Family**\n",
    "\n",
    "Combing Siblings, Spouses, Parents or children onboard to a single Family variable"
   ]
  },
  {
   "cell_type": "code",
   "execution_count": 17,
   "metadata": {},
   "outputs": [],
   "source": [
    "#Combing Siblings, Spouses, Parents or children onboard to a single Family variable\n",
    "tdat[\"Family\"] = tdat[\"Parch\"] + tdat[\"SibSp\"] + 1"
   ]
  },
  {
   "cell_type": "markdown",
   "metadata": {},
   "source": [
    "**Child**\n",
    "Being a child improves your chances of survival, extract the same\n"
   ]
  },
  {
   "cell_type": "code",
   "execution_count": 18,
   "metadata": {},
   "outputs": [],
   "source": [
    "#Being a child improves your chances of survival. \n",
    "tdat[\"Child\"] = 0\n",
    "tdat.loc[tdat[\"Age\"] <= 18, \"Child\"] = 1"
   ]
  },
  {
   "cell_type": "markdown",
   "metadata": {},
   "source": [
    "**Alone**\n",
    "\n",
    "Being Alone may increase survival chances. Extract the same."
   ]
  },
  {
   "cell_type": "code",
   "execution_count": 19,
   "metadata": {},
   "outputs": [],
   "source": [
    "# Extract all passengers who are alone\n",
    "tdat['Alone'] = 0\n",
    "tdat.loc[tdat['Family'] == 1, 'Alone'] = 1"
   ]
  },
  {
   "cell_type": "markdown",
   "metadata": {},
   "source": [
    "Drop Parch and SibSp as these are part of family now"
   ]
  },
  {
   "cell_type": "code",
   "execution_count": 20,
   "metadata": {},
   "outputs": [],
   "source": [
    "#Drop Parch and SibSp in favour of Alone and Child\n",
    "tdat = tdat.drop([\"Parch\",\"SibSp\"], axis=1)"
   ]
  },
  {
   "cell_type": "markdown",
   "metadata": {},
   "source": [
    "**Sex** s non-numeric data which can't be handled by our classifier. "
   ]
  },
  {
   "cell_type": "code",
   "execution_count": 21,
   "metadata": {},
   "outputs": [],
   "source": [
    "#Sex is non-numeric data which can't be handled by our classifier. \n",
    "#set male to 0 and female to 1\n",
    "tdat.loc[tdat[\"Sex\"] == \"male\", \"Sex\"] = 0    \n",
    "tdat.loc[tdat[\"Sex\"] == \"female\", \"Sex\"] =1\n",
    "tdat[\"Sex\"] = tdat[\"Sex\"].astype(int)"
   ]
  },
  {
   "cell_type": "markdown",
   "metadata": {},
   "source": [
    "**Embarked**\n",
    "Fill missing values of Embarked and convert to non-numeric"
   ]
  },
  {
   "cell_type": "code",
   "execution_count": 22,
   "metadata": {},
   "outputs": [],
   "source": [
    "#Fill the missing values of Embarked\n",
    "freq_port = tdat.Embarked.dropna().mode()[0]\n",
    "tdat['Embarked'] = tdat['Embarked'].fillna(freq_port)\n",
    "\n",
    "#Embarked is non-numeric data. Therefore we are going to build a couple of categorical variables to\n",
    "#represent embarked\n",
    "\n",
    "tdat[\"Q\"] = 0\n",
    "tdat.loc[tdat[\"Embarked\"] == \"Q\", \"Q\"] = 1\n",
    "\n",
    "tdat[\"S\"] = 0\n",
    "tdat.loc[tdat[\"Embarked\"] == \"S\", \"S\"] = 1\n",
    "\n",
    "tdat[\"C\"] = 0\n",
    "tdat.loc[tdat[\"Embarked\"] == \"Q\", \"C\"] = 1\n",
    "\n",
    "#Drop Parch and SibSp in favour of Alone and Child\n",
    "tdat = tdat.drop([\"Embarked\"], axis=1)\n"
   ]
  },
  {
   "cell_type": "markdown",
   "metadata": {},
   "source": [
    "**Fare**\n",
    "Fill ony missing value and band the fare values"
   ]
  },
  {
   "cell_type": "code",
   "execution_count": 23,
   "metadata": {},
   "outputs": [],
   "source": [
    "#Senisble imputation of missing Fare values\n",
    "median_fare = tdat.loc[(tdat[\"Pclass\"] == 3) & (tdat[\"S\"] == 1) & (tdat[\"Age\"] >= 55)].dropna()[\"Fare\"].median()\n",
    "tdat[\"Fare\"] = tdat[\"Fare\"].fillna(median_fare)\n",
    "\n",
    "#Band the Fare values\n",
    "tdat.loc[ tdat['Fare'] <= 7.91, 'Fare'] = 0\n",
    "tdat.loc[(tdat['Fare'] > 7.91) & (tdat['Fare'] <= 14.454), 'Fare'] = 1\n",
    "tdat.loc[(tdat['Fare'] > 14.454) & (tdat['Fare'] <= 31), 'Fare']   = 2\n",
    "tdat.loc[ tdat['Fare'] > 31, 'Fare'] = 3\n",
    "tdat['Fare'] = tdat['Fare'].astype(int)"
   ]
  },
  {
   "cell_type": "markdown",
   "metadata": {},
   "source": [
    "Check for Nulls in any column"
   ]
  },
  {
   "cell_type": "code",
   "execution_count": 24,
   "metadata": {},
   "outputs": [
    {
     "data": {
      "text/plain": [
       "Age         False\n",
       "Fare        False\n",
       "Pclass      False\n",
       "Sex         False\n",
       "Survived     True\n",
       "Title       False\n",
       "Family      False\n",
       "Child       False\n",
       "Alone       False\n",
       "Q           False\n",
       "S           False\n",
       "C           False\n",
       "dtype: bool"
      ]
     },
     "execution_count": 24,
     "metadata": {},
     "output_type": "execute_result"
    }
   ],
   "source": [
    "tdat.isnull().any()"
   ]
  },
  {
   "cell_type": "markdown",
   "metadata": {},
   "source": [
    "Break the combined data set into test and train data"
   ]
  },
  {
   "cell_type": "code",
   "execution_count": 25,
   "metadata": {},
   "outputs": [],
   "source": [
    "predictors = [\"Age\",\"Fare\", \"Pclass\", \"Sex\", \"Family\", \"Title\", \"Child\",\"Alone\", \"Q\",\"S\",\"C\"]\n",
    "#Break the combined data set into test and train data\n",
    "target = tdat[\"Survived\"].iloc[:marker]\n",
    "train = tdat[predictors][:marker]\n",
    "test = tdat[predictors][marker:]\n"
   ]
  },
  {
   "cell_type": "markdown",
   "metadata": {},
   "source": [
    "Check the Train data"
   ]
  },
  {
   "cell_type": "code",
   "execution_count": 26,
   "metadata": {},
   "outputs": [
    {
     "data": {
      "text/html": [
       "<div>\n",
       "<style scoped>\n",
       "    .dataframe tbody tr th:only-of-type {\n",
       "        vertical-align: middle;\n",
       "    }\n",
       "\n",
       "    .dataframe tbody tr th {\n",
       "        vertical-align: top;\n",
       "    }\n",
       "\n",
       "    .dataframe thead th {\n",
       "        text-align: right;\n",
       "    }\n",
       "</style>\n",
       "<table border=\"1\" class=\"dataframe\">\n",
       "  <thead>\n",
       "    <tr style=\"text-align: right;\">\n",
       "      <th></th>\n",
       "      <th>Age</th>\n",
       "      <th>Fare</th>\n",
       "      <th>Pclass</th>\n",
       "      <th>Sex</th>\n",
       "      <th>Family</th>\n",
       "      <th>Title</th>\n",
       "      <th>Child</th>\n",
       "      <th>Alone</th>\n",
       "      <th>Q</th>\n",
       "      <th>S</th>\n",
       "      <th>C</th>\n",
       "    </tr>\n",
       "  </thead>\n",
       "  <tbody>\n",
       "    <tr>\n",
       "      <td>0</td>\n",
       "      <td>22.0</td>\n",
       "      <td>0</td>\n",
       "      <td>3</td>\n",
       "      <td>0</td>\n",
       "      <td>2</td>\n",
       "      <td>1.0</td>\n",
       "      <td>0</td>\n",
       "      <td>0</td>\n",
       "      <td>0</td>\n",
       "      <td>1</td>\n",
       "      <td>0</td>\n",
       "    </tr>\n",
       "    <tr>\n",
       "      <td>1</td>\n",
       "      <td>38.0</td>\n",
       "      <td>3</td>\n",
       "      <td>1</td>\n",
       "      <td>1</td>\n",
       "      <td>2</td>\n",
       "      <td>3.0</td>\n",
       "      <td>0</td>\n",
       "      <td>0</td>\n",
       "      <td>0</td>\n",
       "      <td>0</td>\n",
       "      <td>0</td>\n",
       "    </tr>\n",
       "    <tr>\n",
       "      <td>2</td>\n",
       "      <td>26.0</td>\n",
       "      <td>1</td>\n",
       "      <td>3</td>\n",
       "      <td>1</td>\n",
       "      <td>1</td>\n",
       "      <td>2.0</td>\n",
       "      <td>0</td>\n",
       "      <td>1</td>\n",
       "      <td>0</td>\n",
       "      <td>1</td>\n",
       "      <td>0</td>\n",
       "    </tr>\n",
       "    <tr>\n",
       "      <td>3</td>\n",
       "      <td>35.0</td>\n",
       "      <td>3</td>\n",
       "      <td>1</td>\n",
       "      <td>1</td>\n",
       "      <td>2</td>\n",
       "      <td>3.0</td>\n",
       "      <td>0</td>\n",
       "      <td>0</td>\n",
       "      <td>0</td>\n",
       "      <td>1</td>\n",
       "      <td>0</td>\n",
       "    </tr>\n",
       "    <tr>\n",
       "      <td>4</td>\n",
       "      <td>35.0</td>\n",
       "      <td>1</td>\n",
       "      <td>3</td>\n",
       "      <td>0</td>\n",
       "      <td>1</td>\n",
       "      <td>1.0</td>\n",
       "      <td>0</td>\n",
       "      <td>1</td>\n",
       "      <td>0</td>\n",
       "      <td>1</td>\n",
       "      <td>0</td>\n",
       "    </tr>\n",
       "  </tbody>\n",
       "</table>\n",
       "</div>"
      ],
      "text/plain": [
       "    Age  Fare  Pclass  Sex  Family  Title  Child  Alone  Q  S  C\n",
       "0  22.0     0       3    0       2    1.0      0      0  0  1  0\n",
       "1  38.0     3       1    1       2    3.0      0      0  0  0  0\n",
       "2  26.0     1       3    1       1    2.0      0      1  0  1  0\n",
       "3  35.0     3       1    1       2    3.0      0      0  0  1  0\n",
       "4  35.0     1       3    0       1    1.0      0      1  0  1  0"
      ]
     },
     "execution_count": 26,
     "metadata": {},
     "output_type": "execute_result"
    }
   ],
   "source": [
    "train.head()"
   ]
  },
  {
   "cell_type": "markdown",
   "metadata": {},
   "source": [
    "### Visulaization"
   ]
  },
  {
   "cell_type": "markdown",
   "metadata": {},
   "source": [
    "**Correlation coefficient**\n",
    "\n",
    "The correlation coefficient to examine the strength and direction of the linear relationship between two continuous variables.\n",
    "\n",
    "Three variables with greatest correlation to survival are age, gender, and passenger class. Since fare and passenger class correlate so highly, we should only consider one in our analysis for the sake of simplicity. We also see that overall age is not as important as being under the age of 16 as we further dive into the exploration.\n",
    "\n",
    "The variables of particular interest to our analysis are Age, Gender, and Passenger Class."
   ]
  },
  {
   "cell_type": "code",
   "execution_count": 27,
   "metadata": {},
   "outputs": [
    {
     "data": {
      "image/png": "[encoded data removed]",
      "text/plain": [
       "<Figure size 792x648 with 2 Axes>"
      ]
     },
     "metadata": {
      "needs_background": "light"
     },
     "output_type": "display_data"
    }
   ],
   "source": [
    "f, ax = plt.subplots(figsize=(11, 9))\n",
    "correlation = train_o.corr()\n",
    "sns.heatmap(correlation, annot=True, cbar=True, cmap=\"RdYlGn\",ax=ax)\n",
    "plt.show()"
   ]
  },
  {
   "cell_type": "markdown",
   "metadata": {},
   "source": [
    "**Survival based on Age & Sex**\n",
    "\n",
    "Majority of the passengers are below 40 years and almost 300 of them are between 20 and 30"
   ]
  },
  {
   "cell_type": "code",
   "execution_count": 28,
   "metadata": {},
   "outputs": [],
   "source": [
    "survived = train_o.loc[train_o['Survived'] == 0, ['Age']].dropna()\n",
    "not_survived = train_o.loc[train_o['Survived'] == 1, ['Age']].dropna()\n",
    "survived_male = train_o.loc[ (train_o['Survived'] == 1) & (train_o['Sex'] == 'male'), ['Age']].dropna()\n",
    "not_survived_male = train_o.loc[(train_o['Survived'] == 0) & (train_o['Sex'] == 'male'), ['Age']].dropna()\n",
    "survived_female = train_o.loc[(train_o['Survived'] == 1) & (train_o['Sex'] == 'female'), ['Age']].dropna()\n",
    "not_survived_female = train_o.loc[(train_o['Survived'] == 0) & (train_o['Sex'] == 'female'), ['Age']].dropna()\n",
    "\n",
    "\n",
    "survived_children = train_o.loc[(train_o['Survived'] == 1) & (train_o['Age'] <=18), ['Age']].dropna()\n",
    "not_survived_children = train_o.loc[(train_o['Survived'] == 0) & (train_o['Age'] <= 18), ['Age']].dropna()\n"
   ]
  },
  {
   "cell_type": "code",
   "execution_count": 29,
   "metadata": {},
   "outputs": [
    {
     "data": {
      "image/png": "[encoded data removed]",
      "text/plain": [
       "<Figure size 576x432 with 9 Axes>"
      ]
     },
     "metadata": {
      "needs_background": "light"
     },
     "output_type": "display_data"
    }
   ],
   "source": [
    "# fig = plt.figure(figsize=(8,6))\n",
    "# ax1 = plt.subplot2grid((3,8), (0,0), colspan=8)\n",
    "# ax2 = plt.subplot2grid((3,8), (1,0), colspan=6)\n",
    "# ax3 = plt.subplot2grid((3,8), (1,6), colspan=2,rowspan=2)\n",
    "# ax4 = plt.subplot2grid((3,8), (2,0), colspan=6)\n",
    "# fig.tight_layout()\n",
    "# plt.show()\n",
    "\n",
    "bins = [0,10,20,30,40,50,60,70,80]\n",
    "\n",
    "fig = plt.figure(figsize=(8,6))\n",
    "ax = plt.subplot2grid((5,8), (0,0), colspan=8)\n",
    "ax.hist(train_o[\"Age\"].dropna(), bins, histtype='bar', rwidth = 0.8,color='c',label='ages')\n",
    "plt.legend()\n",
    "\n",
    "ax = plt.subplot2grid((5,8), (1,0), colspan=4)\n",
    "ax.hist(survived[\"Age\"], bins, histtype='bar', rwidth = 0.8,color='g',label='survived')\n",
    "plt.legend()\n",
    "ax = plt.subplot2grid((5,8), (1,4), colspan=4)\n",
    "ax.hist(not_survived[\"Age\"], bins, histtype='bar', rwidth = 0.8,color='r',label='not survived')\n",
    "plt.legend()\n",
    "\n",
    "\n",
    "ax = plt.subplot2grid((5,8), (2,0), colspan=4)\n",
    "ax.hist(survived_male[\"Age\"], bins, histtype='bar', rwidth = 0.8,color='g',label='Male survivers')\n",
    "plt.legend()\n",
    "ax = plt.subplot2grid((5,8), (2,4), colspan=4)\n",
    "ax.hist(not_survived_male[\"Age\"], bins, histtype='bar', rwidth = 0.8,color='r',label='Male non survivers')\n",
    "plt.legend()\n",
    "\n",
    "ax = plt.subplot2grid((5,8), (3,0), colspan=4)\n",
    "ax.hist(survived_female[\"Age\"], bins, histtype='bar', rwidth = 0.8,color='g',label='Female survivers')\n",
    "plt.legend()\n",
    "ax = plt.subplot2grid((5,8), (3,4), colspan=4)\n",
    "ax.hist(not_survived_female[\"Age\"], bins, histtype='bar', rwidth = 0.8,color='r',label='Female non survivers')\n",
    "plt.legend()\n",
    "\n",
    "ax = plt.subplot2grid((5,8), (4,0), colspan=4)\n",
    "ax.hist(survived_children[\"Age\"], bins, histtype='bar', rwidth = 0.8,color='g',label='Children survivers')\n",
    "plt.legend()\n",
    "ax = plt.subplot2grid((5,8), (4,4), colspan=4)\n",
    "ax.hist(not_survived_children[\"Age\"], bins, histtype='bar', rwidth = 0.8,color='r',label='Children non survivers')\n",
    "plt.legend()\n",
    "# ax3 = plt.subplot2grid((3,8), (1,4), colspan=4)\n",
    "# ax3.hist(train_o.loc[train_o[\"Survived\"] == 0,'Age'], bins, histtype='bar', rwidth = 0.8,color='r',label='ages')\n",
    "\n",
    "plt.legend()\n",
    "plt.tight_layout()\n",
    "plt.show()"
   ]
  },
  {
   "cell_type": "markdown",
   "metadata": {},
   "source": [
    "**Survival based on Age & Class**"
   ]
  },
  {
   "cell_type": "code",
   "execution_count": 30,
   "metadata": {},
   "outputs": [],
   "source": [
    "c1_s = train_o.loc[(train_o['Survived'] == 1) & (train_o['Pclass'] == 1), ['Age']].dropna()\n",
    "c1_d = train_o.loc[(train_o['Survived'] == 0) & (train_o['Pclass'] == 1), ['Age']].dropna()\n",
    "\n",
    "c2_s = train_o.loc[(train_o['Survived'] == 1) & (train_o['Pclass'] == 2), ['Age']].dropna()\n",
    "c2_d = train_o.loc[(train_o['Survived'] == 0) & (train_o['Pclass'] == 2), ['Age']].dropna()\n",
    "\n",
    "c3_s = train_o.loc[(train_o['Survived'] == 1) & (train_o['Pclass'] == 3), ['Age']].dropna()\n",
    "c3_d = train_o.loc[(train_o['Survived'] == 0) & (train_o['Pclass'] == 3), ['Age']].dropna()\n"
   ]
  },
  {
   "cell_type": "code",
   "execution_count": 31,
   "metadata": {},
   "outputs": [
    {
     "data": {
      "image/png": "[encoded data removed]",
      "text/plain": [
       "<Figure size 864x432 with 2 Axes>"
      ]
     },
     "metadata": {
      "needs_background": "light"
     },
     "output_type": "display_data"
    },
    {
     "data": {
      "image/png": "[encoded data removed]",
      "text/plain": [
       "<Figure size 864x432 with 2 Axes>"
      ]
     },
     "metadata": {
      "needs_background": "light"
     },
     "output_type": "display_data"
    },
    {
     "data": {
      "image/png": "[encoded data removed]",
      "text/plain": [
       "<Figure size 864x432 with 2 Axes>"
      ]
     },
     "metadata": {
      "needs_background": "light"
     },
     "output_type": "display_data"
    }
   ],
   "source": [
    "\n",
    "bins = [0,10,20,30,40,50,60,70,80]\n",
    "\n",
    "fig = plt.figure(figsize=(12,6))\n",
    "ax = plt.subplot2grid((3,8), (0,0), colspan=4)\n",
    "ax.hist(c1_s[\"Age\"].dropna(), bins, histtype='bar', rwidth = 0.8,color='g',label='Pcls=1 Survived')\n",
    "plt.legend()\n",
    "\n",
    "ax = plt.subplot2grid((3,8), (0,4), colspan=4)\n",
    "ax.hist(c1_d[\"Age\"].dropna(), bins, histtype='bar', rwidth = 0.8,color='r',label='Pcls=1 Non Survival')\n",
    "plt.legend()\n",
    "\n",
    "plt.tight_layout()\n",
    "\n",
    "fig = plt.figure(figsize=(12,6))\n",
    "ax = plt.subplot2grid((3,8), (1,0), colspan=4)\n",
    "ax.hist(c2_s[\"Age\"].dropna(), bins, histtype='bar', rwidth = 0.8,color='g',label='Pcls=2 Survived')\n",
    "plt.legend()\n",
    "\n",
    "ax = plt.subplot2grid((3,8), (1,4), colspan=4)\n",
    "ax.hist(c2_d[\"Age\"].dropna(), bins, histtype='bar', rwidth = 0.8,color='r',label='Pcls=2 Non Survival')\n",
    "plt.legend()\n",
    "plt.tight_layout()\n",
    "\n",
    "fig = plt.figure(figsize=(12,6))\n",
    "ax = plt.subplot2grid((3,8), (1,0), colspan=4)\n",
    "ax.hist(c3_s[\"Age\"].dropna(), bins, histtype='bar', rwidth = 0.8,color='g',label='Pcls=3 Survived')\n",
    "plt.legend()\n",
    "\n",
    "ax = plt.subplot2grid((3,8), (1,4), colspan=4)\n",
    "ax.hist(c3_d[\"Age\"].dropna(), bins, histtype='bar', rwidth = 0.8,color='r',label='Pcls=3 Non Survival')\n",
    "plt.legend()\n",
    "\n",
    "\n",
    "plt.tight_layout()\n",
    "plt.show()"
   ]
  },
  {
   "cell_type": "markdown",
   "metadata": {},
   "source": [
    "**Survival based on Age & Embarked**"
   ]
  },
  {
   "cell_type": "code",
   "execution_count": 32,
   "metadata": {},
   "outputs": [],
   "source": [
    "c1_s = train_o.loc[(train_o['Survived'] == 1) & (train_o['Embarked'] == 'S'), ['Age']].dropna()\n",
    "c1_d = train_o.loc[(train_o['Survived'] == 0) & (train_o['Embarked'] == 'S'), ['Age']].dropna()\n",
    "\n",
    "c2_s = train_o.loc[(train_o['Survived'] == 1) & (train_o['Embarked'] == 'C'), ['Age']].dropna()\n",
    "c2_d = train_o.loc[(train_o['Survived'] == 0) & (train_o['Embarked'] == 'C'), ['Age']].dropna()\n",
    "\n",
    "c3_s = train_o.loc[(train_o['Survived'] == 1) & (train_o['Embarked'] == 'Q'), ['Age']].dropna()\n",
    "c3_d = train_o.loc[(train_o['Survived'] == 0) & (train_o['Embarked'] == 'Q'), ['Age']].dropna()\n"
   ]
  },
  {
   "cell_type": "code",
   "execution_count": 33,
   "metadata": {},
   "outputs": [
    {
     "data": {
      "image/png": "[encoded data removed]",
      "text/plain": [
       "<Figure size 864x432 with 2 Axes>"
      ]
     },
     "metadata": {
      "needs_background": "light"
     },
     "output_type": "display_data"
    },
    {
     "data": {
      "image/png": "[encoded data removed]",
      "text/plain": [
       "<Figure size 864x432 with 2 Axes>"
      ]
     },
     "metadata": {
      "needs_background": "light"
     },
     "output_type": "display_data"
    },
    {
     "data": {
      "image/png": "[encoded data removed]",
      "text/plain": [
       "<Figure size 864x432 with 2 Axes>"
      ]
     },
     "metadata": {
      "needs_background": "light"
     },
     "output_type": "display_data"
    }
   ],
   "source": [
    "bins = [0,10,20,30,40,50,60,70,80]\n",
    "\n",
    "fig = plt.figure(figsize=(12,6))\n",
    "ax = plt.subplot2grid((3,8), (0,0), colspan=4)\n",
    "ax.hist(c1_s[\"Age\"].dropna(), bins, histtype='bar', rwidth = 0.8,color='g',label='Emb=S Survived')\n",
    "plt.legend()\n",
    "\n",
    "ax = plt.subplot2grid((3,8), (0,4), colspan=4)\n",
    "ax.hist(c1_d[\"Age\"].dropna(), bins, histtype='bar', rwidth = 0.8,color='r',label='Emb=S  Non Survival')\n",
    "plt.legend()\n",
    "\n",
    "plt.tight_layout()\n",
    "\n",
    "fig = plt.figure(figsize=(12,6))\n",
    "ax = plt.subplot2grid((3,8), (1,0), colspan=4)\n",
    "ax.hist(c2_s[\"Age\"].dropna(), bins, histtype='bar', rwidth = 0.8,color='g',label='Emb=C  Survived')\n",
    "plt.legend()\n",
    "\n",
    "ax = plt.subplot2grid((3,8), (1,4), colspan=4)\n",
    "ax.hist(c2_d[\"Age\"].dropna(), bins, histtype='bar', rwidth = 0.8,color='r',label='Emb=C  Non Survival')\n",
    "plt.legend()\n",
    "plt.tight_layout()\n",
    "\n",
    "fig = plt.figure(figsize=(12,6))\n",
    "ax = plt.subplot2grid((3,8), (1,0), colspan=4)\n",
    "ax.hist(c3_s[\"Age\"].dropna(), bins, histtype='bar', rwidth = 0.8,color='g',label='Emb=Q Survived')\n",
    "plt.legend()\n",
    "\n",
    "ax = plt.subplot2grid((3,8), (1,4), colspan=4)\n",
    "ax.hist(c3_d[\"Age\"].dropna(), bins, histtype='bar', rwidth = 0.8,color='r',label='Emb=Q  Non Survival')\n",
    "plt.legend()\n",
    "\n",
    "\n",
    "plt.tight_layout()\n",
    "plt.show()"
   ]
  },
  {
   "cell_type": "code",
   "execution_count": 34,
   "metadata": {},
   "outputs": [],
   "source": [
    "from sklearn.model_selection import StratifiedShuffleSplit\n",
    "from sklearn.metrics import accuracy_score, log_loss\n",
    "from sklearn.neighbors import KNeighborsClassifier\n",
    "from sklearn.svm import SVC\n",
    "from sklearn.tree import DecisionTreeClassifier\n",
    "from sklearn.ensemble import RandomForestClassifier, AdaBoostClassifier, GradientBoostingClassifier\n",
    "from sklearn.naive_bayes import GaussianNB\n",
    "from sklearn.discriminant_analysis import LinearDiscriminantAnalysis, QuadraticDiscriminantAnalysis\n",
    "from sklearn.linear_model import LogisticRegression\n",
    "\n",
    "import warnings\n",
    "warnings.filterwarnings(\"ignore\")\n"
   ]
  },
  {
   "cell_type": "code",
   "execution_count": 35,
   "metadata": {},
   "outputs": [],
   "source": [
    "classifiers = [\n",
    "    KNeighborsClassifier(3),\n",
    "    SVC(probability=True),\n",
    "    DecisionTreeClassifier(),\n",
    "    RandomForestClassifier(),\n",
    "\tAdaBoostClassifier(),\n",
    "    GradientBoostingClassifier(),\n",
    "    GaussianNB(),\n",
    "    LinearDiscriminantAnalysis(),\n",
    "    QuadraticDiscriminantAnalysis(),\n",
    "    LogisticRegression()]\n",
    "\n",
    "log_cols = [\"Classifier\", \"Accuracy\"]\n",
    "log \t = pd.DataFrame(columns=log_cols)\n"
   ]
  },
  {
   "cell_type": "code",
   "execution_count": 36,
   "metadata": {},
   "outputs": [],
   "source": [
    "sss = StratifiedShuffleSplit(n_splits=10, test_size=0.1, random_state=0)"
   ]
  },
  {
   "cell_type": "code",
   "execution_count": 37,
   "metadata": {},
   "outputs": [],
   "source": [
    "X = train.values\n",
    "y = target.values\n",
    "log.drop(log.index, inplace=True)\n"
   ]
  },
  {
   "cell_type": "code",
   "execution_count": 38,
   "metadata": {},
   "outputs": [],
   "source": [
    "acc_dict = {}"
   ]
  },
  {
   "cell_type": "code",
   "execution_count": 39,
   "metadata": {},
   "outputs": [],
   "source": [
    "for train_index, test_index in sss.split(X, y):\n",
    "\tX_train, X_test = X[train_index], X[test_index]\n",
    "\ty_train, y_test = y[train_index], y[test_index]\n",
    "\t\n",
    "\tfor clf in classifiers:\n",
    "\t\tname = clf.__class__.__name__\n",
    "\t\tclf.fit(X_train, y_train)\n",
    "\t\ttrain_predictions = clf.predict(X_test)\n",
    "\t\tacc = accuracy_score(y_test, train_predictions)\n",
    "\t\tif name in acc_dict:\n",
    "\t\t\tacc_dict[name] += acc\n",
    "\t\telse:\n",
    "\t\t\tacc_dict[name] = acc"
   ]
  },
  {
   "cell_type": "code",
   "execution_count": 40,
   "metadata": {},
   "outputs": [],
   "source": [
    "for clf in acc_dict:\n",
    "\tacc_dict[clf] = acc_dict[clf] / 10.0\n",
    "\tlog_entry = pd.DataFrame([[clf, acc_dict[clf]]], columns=log_cols)\n",
    "\tlog = log.append(log_entry)\n",
    "    \n",
    "    "
   ]
  },
  {
   "cell_type": "code",
   "execution_count": 41,
   "metadata": {},
   "outputs": [
    {
     "data": {
      "image/png": "[encoded data removed]",
      "text/plain": [
       "<Figure size 432x288 with 1 Axes>"
      ]
     },
     "metadata": {
      "needs_background": "light"
     },
     "output_type": "display_data"
    },
    {
     "data": {
      "text/html": [
       "<div>\n",
       "<style scoped>\n",
       "    .dataframe tbody tr th:only-of-type {\n",
       "        vertical-align: middle;\n",
       "    }\n",
       "\n",
       "    .dataframe tbody tr th {\n",
       "        vertical-align: top;\n",
       "    }\n",
       "\n",
       "    .dataframe thead th {\n",
       "        text-align: right;\n",
       "    }\n",
       "</style>\n",
       "<table border=\"1\" class=\"dataframe\">\n",
       "  <thead>\n",
       "    <tr style=\"text-align: right;\">\n",
       "      <th></th>\n",
       "      <th>Classifier</th>\n",
       "      <th>Accuracy</th>\n",
       "    </tr>\n",
       "  </thead>\n",
       "  <tbody>\n",
       "    <tr>\n",
       "      <td>0</td>\n",
       "      <td>KNeighborsClassifier</td>\n",
       "      <td>0.791111</td>\n",
       "    </tr>\n",
       "    <tr>\n",
       "      <td>0</td>\n",
       "      <td>SVC</td>\n",
       "      <td>0.811111</td>\n",
       "    </tr>\n",
       "    <tr>\n",
       "      <td>0</td>\n",
       "      <td>DecisionTreeClassifier</td>\n",
       "      <td>0.797778</td>\n",
       "    </tr>\n",
       "    <tr>\n",
       "      <td>0</td>\n",
       "      <td>RandomForestClassifier</td>\n",
       "      <td>0.806667</td>\n",
       "    </tr>\n",
       "    <tr>\n",
       "      <td>0</td>\n",
       "      <td>AdaBoostClassifier</td>\n",
       "      <td>0.824444</td>\n",
       "    </tr>\n",
       "    <tr>\n",
       "      <td>0</td>\n",
       "      <td>GradientBoostingClassifier</td>\n",
       "      <td>0.835556</td>\n",
       "    </tr>\n",
       "    <tr>\n",
       "      <td>0</td>\n",
       "      <td>GaussianNB</td>\n",
       "      <td>0.797778</td>\n",
       "    </tr>\n",
       "    <tr>\n",
       "      <td>0</td>\n",
       "      <td>LinearDiscriminantAnalysis</td>\n",
       "      <td>0.834444</td>\n",
       "    </tr>\n",
       "    <tr>\n",
       "      <td>0</td>\n",
       "      <td>QuadraticDiscriminantAnalysis</td>\n",
       "      <td>0.655556</td>\n",
       "    </tr>\n",
       "    <tr>\n",
       "      <td>0</td>\n",
       "      <td>LogisticRegression</td>\n",
       "      <td>0.836667</td>\n",
       "    </tr>\n",
       "  </tbody>\n",
       "</table>\n",
       "</div>"
      ],
      "text/plain": [
       "                      Classifier  Accuracy\n",
       "0           KNeighborsClassifier  0.791111\n",
       "0                            SVC  0.811111\n",
       "0         DecisionTreeClassifier  0.797778\n",
       "0         RandomForestClassifier  0.806667\n",
       "0             AdaBoostClassifier  0.824444\n",
       "0     GradientBoostingClassifier  0.835556\n",
       "0                     GaussianNB  0.797778\n",
       "0     LinearDiscriminantAnalysis  0.834444\n",
       "0  QuadraticDiscriminantAnalysis  0.655556\n",
       "0             LogisticRegression  0.836667"
      ]
     },
     "execution_count": 41,
     "metadata": {},
     "output_type": "execute_result"
    }
   ],
   "source": [
    "log\n",
    "x=[1,2,3,4,5,6,7,8,9,10]\n",
    "# plt.xlabel('Accuracy')\n",
    "# plt.title('Classifier Accuracy')\n",
    "# #sns.set_color_codes(\"muted\")\n",
    "# type(log['Accuracy'])\n",
    "\n",
    "# #plt.bar(y, x, label='Acuracy', color=\"b\")\n",
    "# #x\n",
    "\n",
    "\n",
    "# x=[1,2,3,4]\n",
    "# labels=['jan','feb','mar','apr']\n",
    "# y=[40,70,30,54]\n",
    "plt.bar(x,log['Accuracy'], align='center', color='c')\n",
    "plt.xticks(x, log['Classifier'], rotation=90)\n",
    "plt.show()\n",
    "log\n",
    "\n"
   ]
  },
  {
   "cell_type": "markdown",
   "metadata": {},
   "source": [
    "Let us take the Logistic regression classifier which has the pretty good accuracy around 83.6%"
   ]
  },
  {
   "cell_type": "code",
   "execution_count": 42,
   "metadata": {},
   "outputs": [
    {
     "name": "stdout",
     "output_type": "stream",
     "text": [
      "(90, 11)\n",
      "90\n"
     ]
    }
   ],
   "source": [
    "# Logistic Regression : \n",
    "logi_reg = LogisticRegression()\n",
    "# Fit the regressor to the training data\n",
    "logi_reg.fit(train, target)\n",
    "# Predict on the test data: y_pred\n",
    "y_pred = logi_reg.predict(X_test)\n",
    "\n",
    "print(X_test.shape)\n",
    "print(y_pred.size)\n"
   ]
  },
  {
   "cell_type": "markdown",
   "metadata": {},
   "source": []
  },
  {
   "cell_type": "markdown",
   "metadata": {},
   "source": [
    "## Model Evaluation\n",
    "\n",
    "### Confusion Matrix\n",
    "Comparing the true survival outcomes against the model predicted ones. Confusion Matrix provides thye following:\n",
    "\n",
    "1. **Correct classification:** In this case the model correct predicted values, whether the passengers survuved or not survived.\n",
    "2. **False positive:** Model predicted as survived but passenger actually died.\n",
    "3. **False negative:** Model predicted as not survived but passenger actually survived.\n"
   ]
  },
  {
   "cell_type": "code",
   "execution_count": 43,
   "metadata": {},
   "outputs": [
    {
     "data": {
      "text/html": [
       "<div>\n",
       "<style scoped>\n",
       "    .dataframe tbody tr th:only-of-type {\n",
       "        vertical-align: middle;\n",
       "    }\n",
       "\n",
       "    .dataframe tbody tr th {\n",
       "        vertical-align: top;\n",
       "    }\n",
       "\n",
       "    .dataframe thead th {\n",
       "        text-align: right;\n",
       "    }\n",
       "</style>\n",
       "<table border=\"1\" class=\"dataframe\">\n",
       "  <thead>\n",
       "    <tr style=\"text-align: right;\">\n",
       "      <th>Predicted</th>\n",
       "      <th>0.0</th>\n",
       "      <th>1.0</th>\n",
       "    </tr>\n",
       "    <tr>\n",
       "      <th>True</th>\n",
       "      <th></th>\n",
       "      <th></th>\n",
       "    </tr>\n",
       "  </thead>\n",
       "  <tbody>\n",
       "    <tr>\n",
       "      <td>0.0</td>\n",
       "      <td>49</td>\n",
       "      <td>6</td>\n",
       "    </tr>\n",
       "    <tr>\n",
       "      <td>1.0</td>\n",
       "      <td>6</td>\n",
       "      <td>29</td>\n",
       "    </tr>\n",
       "  </tbody>\n",
       "</table>\n",
       "</div>"
      ],
      "text/plain": [
       "Predicted  0.0  1.0\n",
       "True               \n",
       "0.0         49    6\n",
       "1.0          6   29"
      ]
     },
     "execution_count": 43,
     "metadata": {},
     "output_type": "execute_result"
    }
   ],
   "source": [
    "pd.crosstab(y_test, y_pred, rownames=['True'], colnames=['Predicted'])"
   ]
  },
  {
   "cell_type": "markdown",
   "metadata": {},
   "source": [
    "### ROC Plot\n",
    "The Receiver Operator Characteristic (ROC) plot is a popular method of presenting the performance of a classifier. For this to work your predictions need to be on a scale of 0 to 1, and not just 0’s or 1’s. The plot shows the trade-off between sensitivity and specificity of the model as the threshold changes. These are also refered to as the ‘false positive rate’ (FPR) and the ‘true positive rate’ (TPR).\n",
    "\n",
    "To produce this we need to calculate the TPR and FPR at different thresholds, SciKit Learn does this for us…"
   ]
  },
  {
   "cell_type": "code",
   "execution_count": 44,
   "metadata": {},
   "outputs": [
    {
     "ename": "NameError",
     "evalue": "name 'roc_curve' is not defined",
     "output_type": "error",
     "traceback": [
      "\u001b[0;31m---------------------------------------------------------------------------\u001b[0m",
      "\u001b[0;31mNameError\u001b[0m                                 Traceback (most recent call last)",
      "\u001b[0;32m<ipython-input-44-f31395bbe334>\u001b[0m in \u001b[0;36m<module>\u001b[0;34m\u001b[0m\n\u001b[0;32m----> 1\u001b[0;31m \u001b[0mfpr\u001b[0m\u001b[0;34m,\u001b[0m \u001b[0mtpr\u001b[0m\u001b[0;34m,\u001b[0m \u001b[0mthresholds\u001b[0m \u001b[0;34m=\u001b[0m \u001b[0mroc_curve\u001b[0m\u001b[0;34m(\u001b[0m \u001b[0my_test\u001b[0m\u001b[0;34m,\u001b[0m\u001b[0my_pred\u001b[0m\u001b[0;34m)\u001b[0m\u001b[0;34m\u001b[0m\u001b[0;34m\u001b[0m\u001b[0m\n\u001b[0m\u001b[1;32m      2\u001b[0m \u001b[0mplt\u001b[0m\u001b[0;34m.\u001b[0m\u001b[0mplot\u001b[0m\u001b[0;34m(\u001b[0m\u001b[0mfpr\u001b[0m\u001b[0;34m,\u001b[0m \u001b[0mtpr\u001b[0m\u001b[0;34m)\u001b[0m\u001b[0;34m\u001b[0m\u001b[0;34m\u001b[0m\u001b[0m\n\u001b[1;32m      3\u001b[0m \u001b[0;34m\u001b[0m\u001b[0m\n\u001b[1;32m      4\u001b[0m \u001b[0;31m# Add the labels\u001b[0m\u001b[0;34m\u001b[0m\u001b[0;34m\u001b[0m\u001b[0;34m\u001b[0m\u001b[0m\n\u001b[1;32m      5\u001b[0m \u001b[0mplt\u001b[0m\u001b[0;34m.\u001b[0m\u001b[0mylabel\u001b[0m\u001b[0;34m(\u001b[0m\u001b[0;34m\"Sensitivity\"\u001b[0m\u001b[0;34m)\u001b[0m\u001b[0;34m\u001b[0m\u001b[0;34m\u001b[0m\u001b[0m\n",
      "\u001b[0;31mNameError\u001b[0m: name 'roc_curve' is not defined"
     ]
    }
   ],
   "source": [
    "fpr, tpr, thresholds = roc_curve( y_test,y_pred)\n",
    "plt.plot(fpr, tpr)\n",
    " \n",
    "# Add the labels\n",
    "plt.ylabel(\"Sensitivity\")\n",
    "plt.xlabel(\"1 - Specificity\")"
   ]
  },
  {
   "cell_type": "markdown",
   "metadata": {},
   "source": [
    "It shows that we can adjust the threshold to increase sensitivity and the cost of specificity, and visa versa. An example can be seen…\n",
    "\n",
    "If we have a sensitivity of 0.8 we have a specificity of about 0.78 (1 – 0.22)\n",
    "If we change the threshold to increase sensitivity to 0.9 we have a specificity of around 0.4 (1 – 0.6).\n",
    "From this we also can also calculate the Area Under the Curve (AUC). This is a good measure of performance. An AUC of 0.5 means the model is not very good, it is no better than a 50/50 guess. If we have an AUC of less than 0.5 then something went wrong. When you read clinical papers looking at predicting life/death or illness/no-illness then an AUC greater than 0.7 is good and an AUC greater than 0.859 is very good."
   ]
  },
  {
   "cell_type": "code",
   "execution_count": 45,
   "metadata": {},
   "outputs": [
    {
     "ename": "NameError",
     "evalue": "name 'auc' is not defined",
     "output_type": "error",
     "traceback": [
      "\u001b[0;31m---------------------------------------------------------------------------\u001b[0m",
      "\u001b[0;31mNameError\u001b[0m                                 Traceback (most recent call last)",
      "\u001b[0;32m<ipython-input-45-d151f18bb833>\u001b[0m in \u001b[0;36m<module>\u001b[0;34m\u001b[0m\n\u001b[0;32m----> 1\u001b[0;31m \u001b[0mauc\u001b[0m\u001b[0;34m(\u001b[0m\u001b[0mfpr\u001b[0m\u001b[0;34m,\u001b[0m \u001b[0mtpr\u001b[0m\u001b[0;34m)\u001b[0m\u001b[0;34m\u001b[0m\u001b[0;34m\u001b[0m\u001b[0m\n\u001b[0m",
      "\u001b[0;31mNameError\u001b[0m: name 'auc' is not defined"
     ]
    }
   ],
   "source": [
    "auc(fpr, tpr)"
   ]
  },
  {
   "cell_type": "code",
   "execution_count": null,
   "metadata": {},
   "outputs": [],
   "source": []
  },
  {
   "cell_type": "markdown",
   "metadata": {},
   "source": [
    "**This concludes the Titanic Diaster project**"
   ]
  },
  {
   "cell_type": "code",
   "execution_count": null,
   "metadata": {},
   "outputs": [],
   "source": []
  },
  {
   "cell_type": "code",
   "execution_count": null,
   "metadata": {},
   "outputs": [],
   "source": []
  },
  {
   "cell_type": "code",
   "execution_count": null,
   "metadata": {},
   "outputs": [],
   "source": []
  },
  {
   "cell_type": "code",
   "execution_count": null,
   "metadata": {},
   "outputs": [],
   "source": []
  },
  {
   "cell_type": "code",
   "execution_count": null,
   "metadata": {},
   "outputs": [],
   "source": []
  }
 ],
 "metadata": {
  "_change_revision": 0,
  "_is_fork": false,
  "kernelspec": {
   "display_name": "Python 3",
   "language": "python",
   "name": "python3"
  },
  "language_info": {
   "codemirror_mode": {
    "name": "ipython",
    "version": 3
   },
   "file_extension": ".py",
   "mimetype": "text/x-python",
   "name": "python",
   "nbconvert_exporter": "python",
   "pygments_lexer": "ipython3",
   "version": "3.6.8"
  }
 },
 "nbformat": 4,
 "nbformat_minor": 2
}
